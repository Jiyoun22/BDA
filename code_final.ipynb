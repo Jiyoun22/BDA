{
 "cells": [
  {
   "cell_type": "code",
   "execution_count": 3,
   "id": "d96b00e6",
   "metadata": {},
   "outputs": [],
   "source": [
    "import pandas as pd\n",
    "import matplotlib.pyplot as plt\n",
    "import numpy as np "
   ]
  },
  {
   "cell_type": "markdown",
   "id": "6ffc22e7",
   "metadata": {},
   "source": [
    "데이터 불러오기 및 확인"
   ]
  },
  {
   "cell_type": "code",
   "execution_count": 4,
   "id": "2df73f23",
   "metadata": {},
   "outputs": [],
   "source": [
    "library_count=pd.read_csv('library_count.csv')\n",
    "library_people=pd.read_csv('library_people.csv')\n",
    "library_books=pd.read_csv('library_books.csv')\n",
    "library_seat=pd.read_csv('library_seat.csv')\n",
    "academy=pd.read_csv('academy.csv')\n",
    "home=pd.read_csv('home.csv')"
   ]
  },
  {
   "cell_type": "code",
   "execution_count": 5,
   "id": "d700bd56",
   "metadata": {},
   "outputs": [
    {
     "data": {
      "text/html": [
       "<div>\n",
       "<style scoped>\n",
       "    .dataframe tbody tr th:only-of-type {\n",
       "        vertical-align: middle;\n",
       "    }\n",
       "\n",
       "    .dataframe tbody tr th {\n",
       "        vertical-align: top;\n",
       "    }\n",
       "\n",
       "    .dataframe thead th {\n",
       "        text-align: right;\n",
       "    }\n",
       "</style>\n",
       "<table border=\"1\" class=\"dataframe\">\n",
       "  <thead>\n",
       "    <tr style=\"text-align: right;\">\n",
       "      <th></th>\n",
       "      <th>자치구별</th>\n",
       "      <th>2018_count</th>\n",
       "      <th>2019_count</th>\n",
       "      <th>2020_count</th>\n",
       "      <th>2021_count</th>\n",
       "      <th>2022_count</th>\n",
       "    </tr>\n",
       "  </thead>\n",
       "  <tbody>\n",
       "    <tr>\n",
       "      <th>0</th>\n",
       "      <td>종로구</td>\n",
       "      <td>7</td>\n",
       "      <td>7</td>\n",
       "      <td>7</td>\n",
       "      <td>7</td>\n",
       "      <td>7</td>\n",
       "    </tr>\n",
       "    <tr>\n",
       "      <th>1</th>\n",
       "      <td>중구</td>\n",
       "      <td>5</td>\n",
       "      <td>5</td>\n",
       "      <td>6</td>\n",
       "      <td>9</td>\n",
       "      <td>9</td>\n",
       "    </tr>\n",
       "    <tr>\n",
       "      <th>2</th>\n",
       "      <td>용산구</td>\n",
       "      <td>4</td>\n",
       "      <td>4</td>\n",
       "      <td>4</td>\n",
       "      <td>4</td>\n",
       "      <td>4</td>\n",
       "    </tr>\n",
       "    <tr>\n",
       "      <th>3</th>\n",
       "      <td>성동구</td>\n",
       "      <td>6</td>\n",
       "      <td>6</td>\n",
       "      <td>7</td>\n",
       "      <td>7</td>\n",
       "      <td>7</td>\n",
       "    </tr>\n",
       "    <tr>\n",
       "      <th>4</th>\n",
       "      <td>광진구</td>\n",
       "      <td>4</td>\n",
       "      <td>4</td>\n",
       "      <td>5</td>\n",
       "      <td>5</td>\n",
       "      <td>7</td>\n",
       "    </tr>\n",
       "  </tbody>\n",
       "</table>\n",
       "</div>"
      ],
      "text/plain": [
       "  자치구별  2018_count  2019_count  2020_count  2021_count  2022_count\n",
       "0  종로구           7           7           7           7           7\n",
       "1   중구           5           5           6           9           9\n",
       "2  용산구           4           4           4           4           4\n",
       "3  성동구           6           6           7           7           7\n",
       "4  광진구           4           4           5           5           7"
      ]
     },
     "execution_count": 5,
     "metadata": {},
     "output_type": "execute_result"
    }
   ],
   "source": [
    "library_count.head()"
   ]
  },
  {
   "cell_type": "code",
   "execution_count": 6,
   "id": "7936ce9d",
   "metadata": {},
   "outputs": [
    {
     "data": {
      "text/html": [
       "<div>\n",
       "<style scoped>\n",
       "    .dataframe tbody tr th:only-of-type {\n",
       "        vertical-align: middle;\n",
       "    }\n",
       "\n",
       "    .dataframe tbody tr th {\n",
       "        vertical-align: top;\n",
       "    }\n",
       "\n",
       "    .dataframe thead th {\n",
       "        text-align: right;\n",
       "    }\n",
       "</style>\n",
       "<table border=\"1\" class=\"dataframe\">\n",
       "  <thead>\n",
       "    <tr style=\"text-align: right;\">\n",
       "      <th></th>\n",
       "      <th>자치구별</th>\n",
       "      <th>2018_people</th>\n",
       "      <th>2019_people</th>\n",
       "      <th>2020_people</th>\n",
       "      <th>2021_people</th>\n",
       "      <th>2022_people</th>\n",
       "    </tr>\n",
       "  </thead>\n",
       "  <tbody>\n",
       "    <tr>\n",
       "      <th>0</th>\n",
       "      <td>종로구</td>\n",
       "      <td>3843581</td>\n",
       "      <td>4112688</td>\n",
       "      <td>1320439</td>\n",
       "      <td>1870094</td>\n",
       "      <td>3121980</td>\n",
       "    </tr>\n",
       "    <tr>\n",
       "      <th>1</th>\n",
       "      <td>중구</td>\n",
       "      <td>1682720</td>\n",
       "      <td>1598663</td>\n",
       "      <td>383798</td>\n",
       "      <td>660273</td>\n",
       "      <td>1318271</td>\n",
       "    </tr>\n",
       "    <tr>\n",
       "      <th>2</th>\n",
       "      <td>용산구</td>\n",
       "      <td>2266969</td>\n",
       "      <td>2332135</td>\n",
       "      <td>951797</td>\n",
       "      <td>1644207</td>\n",
       "      <td>1323081</td>\n",
       "    </tr>\n",
       "    <tr>\n",
       "      <th>3</th>\n",
       "      <td>성동구</td>\n",
       "      <td>3081900</td>\n",
       "      <td>2903130</td>\n",
       "      <td>492697</td>\n",
       "      <td>484024</td>\n",
       "      <td>1217900</td>\n",
       "    </tr>\n",
       "    <tr>\n",
       "      <th>4</th>\n",
       "      <td>광진구</td>\n",
       "      <td>2342446</td>\n",
       "      <td>2518424</td>\n",
       "      <td>827789</td>\n",
       "      <td>1285690</td>\n",
       "      <td>1664321</td>\n",
       "    </tr>\n",
       "  </tbody>\n",
       "</table>\n",
       "</div>"
      ],
      "text/plain": [
       "  자치구별  2018_people  2019_people  2020_people  2021_people  2022_people\n",
       "0  종로구      3843581      4112688      1320439      1870094      3121980\n",
       "1   중구      1682720      1598663       383798       660273      1318271\n",
       "2  용산구      2266969      2332135       951797      1644207      1323081\n",
       "3  성동구      3081900      2903130       492697       484024      1217900\n",
       "4  광진구      2342446      2518424       827789      1285690      1664321"
      ]
     },
     "execution_count": 6,
     "metadata": {},
     "output_type": "execute_result"
    }
   ],
   "source": [
    "library_people.head()"
   ]
  },
  {
   "cell_type": "code",
   "execution_count": 7,
   "id": "d19730ba",
   "metadata": {},
   "outputs": [
    {
     "data": {
      "text/html": [
       "<div>\n",
       "<style scoped>\n",
       "    .dataframe tbody tr th:only-of-type {\n",
       "        vertical-align: middle;\n",
       "    }\n",
       "\n",
       "    .dataframe tbody tr th {\n",
       "        vertical-align: top;\n",
       "    }\n",
       "\n",
       "    .dataframe thead th {\n",
       "        text-align: right;\n",
       "    }\n",
       "</style>\n",
       "<table border=\"1\" class=\"dataframe\">\n",
       "  <thead>\n",
       "    <tr style=\"text-align: right;\">\n",
       "      <th></th>\n",
       "      <th>2018_books</th>\n",
       "      <th>2019_books</th>\n",
       "      <th>2020_books</th>\n",
       "      <th>2021_books</th>\n",
       "      <th>2022_books</th>\n",
       "    </tr>\n",
       "  </thead>\n",
       "  <tbody>\n",
       "    <tr>\n",
       "      <th>0</th>\n",
       "      <td>1206708</td>\n",
       "      <td>1237509</td>\n",
       "      <td>1248380</td>\n",
       "      <td>1266108</td>\n",
       "      <td>1269647</td>\n",
       "    </tr>\n",
       "    <tr>\n",
       "      <th>1</th>\n",
       "      <td>588802</td>\n",
       "      <td>631098</td>\n",
       "      <td>690958</td>\n",
       "      <td>776981</td>\n",
       "      <td>843810</td>\n",
       "    </tr>\n",
       "    <tr>\n",
       "      <th>2</th>\n",
       "      <td>903055</td>\n",
       "      <td>913160</td>\n",
       "      <td>918125</td>\n",
       "      <td>915563</td>\n",
       "      <td>919433</td>\n",
       "    </tr>\n",
       "    <tr>\n",
       "      <th>3</th>\n",
       "      <td>551969</td>\n",
       "      <td>525438</td>\n",
       "      <td>543068</td>\n",
       "      <td>557187</td>\n",
       "      <td>564108</td>\n",
       "    </tr>\n",
       "    <tr>\n",
       "      <th>4</th>\n",
       "      <td>371160</td>\n",
       "      <td>395514</td>\n",
       "      <td>439771</td>\n",
       "      <td>477663</td>\n",
       "      <td>518656</td>\n",
       "    </tr>\n",
       "  </tbody>\n",
       "</table>\n",
       "</div>"
      ],
      "text/plain": [
       "   2018_books  2019_books  2020_books  2021_books  2022_books\n",
       "0     1206708     1237509     1248380     1266108     1269647\n",
       "1      588802      631098      690958      776981      843810\n",
       "2      903055      913160      918125      915563      919433\n",
       "3      551969      525438      543068      557187      564108\n",
       "4      371160      395514      439771      477663      518656"
      ]
     },
     "execution_count": 7,
     "metadata": {},
     "output_type": "execute_result"
    }
   ],
   "source": [
    "library_books.head()"
   ]
  },
  {
   "cell_type": "code",
   "execution_count": 8,
   "id": "48e5f61e",
   "metadata": {},
   "outputs": [
    {
     "data": {
      "text/html": [
       "<div>\n",
       "<style scoped>\n",
       "    .dataframe tbody tr th:only-of-type {\n",
       "        vertical-align: middle;\n",
       "    }\n",
       "\n",
       "    .dataframe tbody tr th {\n",
       "        vertical-align: top;\n",
       "    }\n",
       "\n",
       "    .dataframe thead th {\n",
       "        text-align: right;\n",
       "    }\n",
       "</style>\n",
       "<table border=\"1\" class=\"dataframe\">\n",
       "  <thead>\n",
       "    <tr style=\"text-align: right;\">\n",
       "      <th></th>\n",
       "      <th>자치구별</th>\n",
       "      <th>2018_seat</th>\n",
       "      <th>2019_seat</th>\n",
       "      <th>2020_seat</th>\n",
       "      <th>2021_seat</th>\n",
       "      <th>2022_seat</th>\n",
       "    </tr>\n",
       "  </thead>\n",
       "  <tbody>\n",
       "    <tr>\n",
       "      <th>0</th>\n",
       "      <td>종로구</td>\n",
       "      <td>2426</td>\n",
       "      <td>2399</td>\n",
       "      <td>2424</td>\n",
       "      <td>3014</td>\n",
       "      <td>2955</td>\n",
       "    </tr>\n",
       "    <tr>\n",
       "      <th>1</th>\n",
       "      <td>중구</td>\n",
       "      <td>699</td>\n",
       "      <td>689</td>\n",
       "      <td>810</td>\n",
       "      <td>1049</td>\n",
       "      <td>1007</td>\n",
       "    </tr>\n",
       "    <tr>\n",
       "      <th>2</th>\n",
       "      <td>용산구</td>\n",
       "      <td>1545</td>\n",
       "      <td>1587</td>\n",
       "      <td>1557</td>\n",
       "      <td>1471</td>\n",
       "      <td>1214</td>\n",
       "    </tr>\n",
       "    <tr>\n",
       "      <th>3</th>\n",
       "      <td>성동구</td>\n",
       "      <td>1691</td>\n",
       "      <td>1675</td>\n",
       "      <td>1688</td>\n",
       "      <td>1508</td>\n",
       "      <td>1508</td>\n",
       "    </tr>\n",
       "    <tr>\n",
       "      <th>4</th>\n",
       "      <td>광진구</td>\n",
       "      <td>1346</td>\n",
       "      <td>1348</td>\n",
       "      <td>1523</td>\n",
       "      <td>1392</td>\n",
       "      <td>1512</td>\n",
       "    </tr>\n",
       "  </tbody>\n",
       "</table>\n",
       "</div>"
      ],
      "text/plain": [
       "  자치구별  2018_seat  2019_seat  2020_seat  2021_seat  2022_seat\n",
       "0  종로구       2426       2399       2424       3014       2955\n",
       "1   중구        699        689        810       1049       1007\n",
       "2  용산구       1545       1587       1557       1471       1214\n",
       "3  성동구       1691       1675       1688       1508       1508\n",
       "4  광진구       1346       1348       1523       1392       1512"
      ]
     },
     "execution_count": 8,
     "metadata": {},
     "output_type": "execute_result"
    }
   ],
   "source": [
    "library_seat.head()"
   ]
  },
  {
   "cell_type": "code",
   "execution_count": 9,
   "id": "cb6c9724",
   "metadata": {},
   "outputs": [
    {
     "data": {
      "text/html": [
       "<div>\n",
       "<style scoped>\n",
       "    .dataframe tbody tr th:only-of-type {\n",
       "        vertical-align: middle;\n",
       "    }\n",
       "\n",
       "    .dataframe tbody tr th {\n",
       "        vertical-align: top;\n",
       "    }\n",
       "\n",
       "    .dataframe thead th {\n",
       "        text-align: right;\n",
       "    }\n",
       "</style>\n",
       "<table border=\"1\" class=\"dataframe\">\n",
       "  <thead>\n",
       "    <tr style=\"text-align: right;\">\n",
       "      <th></th>\n",
       "      <th>자치구별</th>\n",
       "      <th>2018_academy</th>\n",
       "      <th>2019_academy</th>\n",
       "      <th>2020_academy</th>\n",
       "      <th>2021_academy</th>\n",
       "      <th>2022_academy</th>\n",
       "    </tr>\n",
       "  </thead>\n",
       "  <tbody>\n",
       "    <tr>\n",
       "      <th>0</th>\n",
       "      <td>종로구</td>\n",
       "      <td>274</td>\n",
       "      <td>259</td>\n",
       "      <td>243</td>\n",
       "      <td>217</td>\n",
       "      <td>248</td>\n",
       "    </tr>\n",
       "    <tr>\n",
       "      <th>1</th>\n",
       "      <td>중구</td>\n",
       "      <td>119</td>\n",
       "      <td>118</td>\n",
       "      <td>109</td>\n",
       "      <td>91</td>\n",
       "      <td>108</td>\n",
       "    </tr>\n",
       "    <tr>\n",
       "      <th>2</th>\n",
       "      <td>용산구</td>\n",
       "      <td>158</td>\n",
       "      <td>155</td>\n",
       "      <td>154</td>\n",
       "      <td>137</td>\n",
       "      <td>151</td>\n",
       "    </tr>\n",
       "    <tr>\n",
       "      <th>3</th>\n",
       "      <td>성동구</td>\n",
       "      <td>314</td>\n",
       "      <td>293</td>\n",
       "      <td>289</td>\n",
       "      <td>290</td>\n",
       "      <td>294</td>\n",
       "    </tr>\n",
       "    <tr>\n",
       "      <th>4</th>\n",
       "      <td>광진구</td>\n",
       "      <td>430</td>\n",
       "      <td>406</td>\n",
       "      <td>405</td>\n",
       "      <td>426</td>\n",
       "      <td>441</td>\n",
       "    </tr>\n",
       "  </tbody>\n",
       "</table>\n",
       "</div>"
      ],
      "text/plain": [
       "  자치구별  2018_academy  2019_academy  2020_academy  2021_academy  2022_academy\n",
       "0  종로구           274           259           243           217           248\n",
       "1   중구           119           118           109            91           108\n",
       "2  용산구           158           155           154           137           151\n",
       "3  성동구           314           293           289           290           294\n",
       "4  광진구           430           406           405           426           441"
      ]
     },
     "execution_count": 9,
     "metadata": {},
     "output_type": "execute_result"
    }
   ],
   "source": [
    "academy.head()"
   ]
  },
  {
   "cell_type": "code",
   "execution_count": 10,
   "id": "eb8b4f26",
   "metadata": {},
   "outputs": [
    {
     "data": {
      "text/html": [
       "<div>\n",
       "<style scoped>\n",
       "    .dataframe tbody tr th:only-of-type {\n",
       "        vertical-align: middle;\n",
       "    }\n",
       "\n",
       "    .dataframe tbody tr th {\n",
       "        vertical-align: top;\n",
       "    }\n",
       "\n",
       "    .dataframe thead th {\n",
       "        text-align: right;\n",
       "    }\n",
       "</style>\n",
       "<table border=\"1\" class=\"dataframe\">\n",
       "  <thead>\n",
       "    <tr style=\"text-align: right;\">\n",
       "      <th></th>\n",
       "      <th>2018_home</th>\n",
       "      <th>2019_home</th>\n",
       "      <th>2020_home</th>\n",
       "      <th>2021_home</th>\n",
       "      <th>2022_home</th>\n",
       "    </tr>\n",
       "  </thead>\n",
       "  <tbody>\n",
       "    <tr>\n",
       "      <th>0</th>\n",
       "      <td>720.836416</td>\n",
       "      <td>807.772899</td>\n",
       "      <td>830.129343</td>\n",
       "      <td>946.529098</td>\n",
       "      <td>994.746521</td>\n",
       "    </tr>\n",
       "    <tr>\n",
       "      <th>1</th>\n",
       "      <td>837.169941</td>\n",
       "      <td>969.448011</td>\n",
       "      <td>1083.455562</td>\n",
       "      <td>1087.791713</td>\n",
       "      <td>1030.691087</td>\n",
       "    </tr>\n",
       "    <tr>\n",
       "      <th>2</th>\n",
       "      <td>1085.173459</td>\n",
       "      <td>1233.552696</td>\n",
       "      <td>1326.059403</td>\n",
       "      <td>1443.340526</td>\n",
       "      <td>1624.832173</td>\n",
       "    </tr>\n",
       "    <tr>\n",
       "      <th>3</th>\n",
       "      <td>977.713806</td>\n",
       "      <td>1154.246388</td>\n",
       "      <td>1290.205981</td>\n",
       "      <td>1389.203683</td>\n",
       "      <td>1615.105428</td>\n",
       "    </tr>\n",
       "    <tr>\n",
       "      <th>4</th>\n",
       "      <td>731.763072</td>\n",
       "      <td>832.195807</td>\n",
       "      <td>888.363081</td>\n",
       "      <td>945.189554</td>\n",
       "      <td>956.249744</td>\n",
       "    </tr>\n",
       "  </tbody>\n",
       "</table>\n",
       "</div>"
      ],
      "text/plain": [
       "     2018_home    2019_home    2020_home    2021_home    2022_home\n",
       "0   720.836416   807.772899   830.129343   946.529098   994.746521\n",
       "1   837.169941   969.448011  1083.455562  1087.791713  1030.691087\n",
       "2  1085.173459  1233.552696  1326.059403  1443.340526  1624.832173\n",
       "3   977.713806  1154.246388  1290.205981  1389.203683  1615.105428\n",
       "4   731.763072   832.195807   888.363081   945.189554   956.249744"
      ]
     },
     "execution_count": 10,
     "metadata": {},
     "output_type": "execute_result"
    }
   ],
   "source": [
    "home.head()"
   ]
  },
  {
   "cell_type": "markdown",
   "id": "ca8a3639",
   "metadata": {},
   "source": [
    "----"
   ]
  },
  {
   "cell_type": "markdown",
   "id": "d330cbc1",
   "metadata": {},
   "source": [
    "두 요소 간의 상관관계 파악"
   ]
  },
  {
   "cell_type": "code",
   "execution_count": 11,
   "id": "d8a4a254",
   "metadata": {},
   "outputs": [],
   "source": [
    "#확인해볼 상관관계\n",
    "\n",
    "#도서관 수 & 도서관 이용자 수\n",
    "#도서관 수 & 도서관 좌석수\n",
    "#도서관 수 & 부동산 거래가\n",
    "\n",
    "#도서관 자료 수 & 도서관 이용자 수\n",
    "#도서관 자료 수 & 근처 학원 수 \n",
    "\n",
    "#도서관 좌석수 & 도서관 이용자 수\n",
    "#도서관 자료수 & 근처 학원 수\n",
    "\n",
    "#도서관 이용자 수 & 도서관 좌석 수 \n",
    "#도서관 이용자 수 & 근처 학원 수 \n",
    "#도서관 이용자 수 & 부동산 거래가\n"
   ]
  },
  {
   "cell_type": "code",
   "execution_count": 12,
   "id": "8860d42d",
   "metadata": {},
   "outputs": [
    {
     "data": {
      "text/plain": [
       "0.9959604425606577"
      ]
     },
     "execution_count": 12,
     "metadata": {},
     "output_type": "execute_result"
    }
   ],
   "source": [
    "#도서관 수 & 도서관 이용자 수\n",
    "\n",
    "# 자치구별을 제외한 나머지 열 이름에서 년도를 추출합니다.\n",
    "# 두 데이터프레임 모두 같은 구조를 가지고 있으므로, 한 데이터프레임에서 열 이름을 추출합니다.\n",
    "years = ['2018', '2019', '2020', '2021', '2022']\n",
    "\n",
    "# 각 년도별로 반복하여 산점도를 그립니다.\n",
    "\n",
    "for year in years:\n",
    "    count_column = f'{year}_count'  # library_count 데이터프레임의 열 이름\n",
    "    people_column = f'{year}_people'  # library_people 데이터프레임의 열 이름\n",
    "    correlation = library_count[count_column].corr(library_people[people_column])\n",
    "\n",
    "correlation"
   ]
  },
  {
   "cell_type": "code",
   "execution_count": 13,
   "id": "b1753a4e",
   "metadata": {},
   "outputs": [
    {
     "data": {
      "text/plain": [
       "0.9971305348789481"
      ]
     },
     "execution_count": 13,
     "metadata": {},
     "output_type": "execute_result"
    }
   ],
   "source": [
    "#도서관 좌석수 & 도서관 수\n",
    "\n",
    "years = ['2018', '2019', '2020', '2021', '2022']\n",
    "\n",
    "# 각 년도별로 반복하여 산점도를 그립니다.\n",
    "\n",
    "for year in years:\n",
    "    count_column = f'{year}_seat'  # library_count 데이터프레임의 열 이름\n",
    "    people_column = f'{year}_count'  # library_people 데이터프레임의 열 이름\n",
    "    correlation = library_seat[count_column].corr(library_count[people_column])\n",
    "\n",
    "correlation"
   ]
  },
  {
   "cell_type": "code",
   "execution_count": 14,
   "id": "d8edc789",
   "metadata": {},
   "outputs": [
    {
     "data": {
      "text/plain": [
       "0.026171314726339608"
      ]
     },
     "execution_count": 14,
     "metadata": {},
     "output_type": "execute_result"
    }
   ],
   "source": [
    "#도서관 수 & 집값\n",
    "\n",
    "# 자치구별을 제외한 나머지 열 이름에서 년도를 추출합니다.\n",
    "# 두 데이터프레임 모두 같은 구조를 가지고 있으므로, 한 데이터프레임에서 열 이름을 추출합니다.\n",
    "years = ['2018', '2019', '2020', '2021', '2022']\n",
    "\n",
    "# 각 년도별로 반복하여 산점도를 그립니다.\n",
    "for year in years:\n",
    "    count_column = f'{year}_count'  # library_count 데이터프레임의 열 이름\n",
    "    people_column = f'{year}_home'  # library_people 데이터프레임의 열 이름\n",
    "    correlation = library_count[count_column].corr(home[people_column])\n",
    "\n",
    "correlation"
   ]
  },
  {
   "cell_type": "markdown",
   "id": "d2d5c8c2",
   "metadata": {},
   "source": [
    "----------------------------------------------------------------"
   ]
  },
  {
   "cell_type": "code",
   "execution_count": 15,
   "id": "7dc0b26e",
   "metadata": {},
   "outputs": [
    {
     "data": {
      "text/plain": [
       "0.7629894396297955"
      ]
     },
     "execution_count": 15,
     "metadata": {},
     "output_type": "execute_result"
    }
   ],
   "source": [
    "#도서관 자료수 & 도서관 이용자수\n",
    "\n",
    "# 자치구별을 제외한 나머지 열 이름에서 년도를 추출합니다.\n",
    "# 두 데이터프레임 모두 같은 구조를 가지고 있으므로, 한 데이터프레임에서 열 이름을 추출합니다.\n",
    "years = ['2018', '2019', '2020', '2021', '2022']\n",
    "\n",
    "# 각 년도별로 반복하여 산점도를 그립니다.\n",
    "\n",
    "for year in years:\n",
    "    count_column = f'{year}_books'  # library_count 데이터프레임의 열 이름\n",
    "    people_column = f'{year}_people'  # library_people 데이터프레임의 열 이름\n",
    "    correlation = library_books[count_column].corr(library_people[people_column])\n",
    "\n",
    "correlation"
   ]
  },
  {
   "cell_type": "code",
   "execution_count": 16,
   "id": "acb653cc",
   "metadata": {},
   "outputs": [
    {
     "data": {
      "text/plain": [
       "0.9869877412469134"
      ]
     },
     "execution_count": 16,
     "metadata": {},
     "output_type": "execute_result"
    }
   ],
   "source": [
    "#도서관 좌석수 & 학원수\n",
    "\n",
    "# 자치구별을 제외한 나머지 열 이름에서 년도를 추출합니다.\n",
    "# 두 데이터프레임 모두 같은 구조를 가지고 있으므로, 한 데이터프레임에서 열 이름을 추출합니다.\n",
    "years = ['2018', '2019', '2020', '2021', '2022']\n",
    "\n",
    "# 각 년도별로 반복하여 산점도를 그립니다.\n",
    "for year in years:\n",
    "    count_column = f'{year}_academy'  # library_count 데이터프레임의 열 이름\n",
    "    people_column = f'{year}_seat'  # library_people 데이터프레임의 열 이름\n",
    "    correlation =academy[count_column].corr(library_seat[people_column])\n",
    "\n",
    "correlation"
   ]
  },
  {
   "cell_type": "markdown",
   "id": "cd9e9ae1",
   "metadata": {},
   "source": [
    "----------------"
   ]
  },
  {
   "cell_type": "code",
   "execution_count": 17,
   "id": "4dc7c522",
   "metadata": {},
   "outputs": [
    {
     "data": {
      "text/plain": [
       "0.9984334630651189"
      ]
     },
     "execution_count": 17,
     "metadata": {},
     "output_type": "execute_result"
    }
   ],
   "source": [
    "#도서관 이용자수 & 도서관 좌석수\n",
    "\n",
    "years = ['2018', '2019', '2020', '2021', '2022']\n",
    "\n",
    "# 각 년도별로 반복하여 산점도를 그립니다.\n",
    "\n",
    "for year in years:\n",
    "    count_column = f'{year}_seat'  # library_count 데이터프레임의 열 이름\n",
    "    people_column = f'{year}_people'  # library_people 데이터프레임의 열 이름\n",
    "    correlation = library_seat[count_column].corr(library_people[people_column])\n",
    "\n",
    "correlation"
   ]
  },
  {
   "cell_type": "code",
   "execution_count": 18,
   "id": "ea4fda29",
   "metadata": {},
   "outputs": [
    {
     "data": {
      "text/plain": [
       "0.27030559362949497"
      ]
     },
     "execution_count": 18,
     "metadata": {},
     "output_type": "execute_result"
    }
   ],
   "source": [
    "#학원수 & 도서관 자료수\n",
    "\n",
    "# 자치구별을 제외한 나머지 열 이름에서 년도를 추출합니다.\n",
    "# 두 데이터프레임 모두 같은 구조를 가지고 있으므로, 한 데이터프레임에서 열 이름을 추출합니다.\n",
    "years = ['2018', '2019', '2020', '2021', '2022']\n",
    "\n",
    "# 각 년도별로 반복하여 산점도를 그립니다.\n",
    "for year in years:\n",
    "    count_column = f'{year}_academy'  # library_count 데이터프레임의 열 이름\n",
    "    people_column = f'{year}_books'  # library_people 데이터프레임의 열 이름\n",
    "    correlation = academy[count_column].corr(library_books[people_column])\n",
    "\n",
    "correlation"
   ]
  },
  {
   "cell_type": "markdown",
   "id": "17b02030",
   "metadata": {},
   "source": [
    "---------"
   ]
  },
  {
   "cell_type": "code",
   "execution_count": 19,
   "id": "785eb537",
   "metadata": {},
   "outputs": [
    {
     "data": {
      "text/plain": [
       "0.9984334630651189"
      ]
     },
     "execution_count": 19,
     "metadata": {},
     "output_type": "execute_result"
    }
   ],
   "source": [
    "#도서관 이용자수 & 도서관 좌석수\n",
    "\n",
    "years = ['2018', '2019', '2020', '2021', '2022']\n",
    "\n",
    "# 각 년도별로 반복하여 산점도를 그립니다.\n",
    "\n",
    "for year in years:\n",
    "    count_column = f'{year}_seat'  # library_count 데이터프레임의 열 이름\n",
    "    people_column = f'{year}_people'  # library_people 데이터프레임의 열 이름\n",
    "    correlation = library_seat[count_column].corr(library_people[people_column])\n",
    "\n",
    "correlation"
   ]
  },
  {
   "cell_type": "code",
   "execution_count": 20,
   "id": "6d1faa45",
   "metadata": {},
   "outputs": [
    {
     "data": {
      "text/plain": [
       "0.9895793946475334"
      ]
     },
     "execution_count": 20,
     "metadata": {},
     "output_type": "execute_result"
    }
   ],
   "source": [
    "#학원수 & 도서관 이용자수\n",
    "\n",
    "# 자치구별을 제외한 나머지 열 이름에서 년도를 추출합니다.\n",
    "# 두 데이터프레임 모두 같은 구조를 가지고 있으므로, 한 데이터프레임에서 열 이름을 추출합니다.\n",
    "years = ['2018', '2019', '2020', '2021', '2022']\n",
    "\n",
    "# 각 년도별로 반복하여 산점도를 그립니다.\n",
    "for year in years:\n",
    "    count_column = f'{year}_academy'  # library_count 데이터프레임의 열 이름\n",
    "    people_column = f'{year}_people'  # library_people 데이터프레임의 열 이름\n",
    "    correlation = academy[count_column].corr(library_people[people_column])\n",
    "\n",
    "correlation"
   ]
  },
  {
   "cell_type": "code",
   "execution_count": 21,
   "id": "c0c72d51",
   "metadata": {},
   "outputs": [
    {
     "data": {
      "text/plain": [
       "0.20319306745016796"
      ]
     },
     "execution_count": 21,
     "metadata": {},
     "output_type": "execute_result"
    }
   ],
   "source": [
    "#도서관 이용자수 & 집값\n",
    "\n",
    "# 자치구별을 제외한 나머지 열 이름에서 년도를 추출합니다.\n",
    "# 두 데이터프레임 모두 같은 구조를 가지고 있으므로, 한 데이터프레임에서 열 이름을 추출합니다.\n",
    "years = ['2018', '2019', '2020', '2021', '2022']\n",
    "\n",
    "# 각 년도별로 반복하여 산점도를 그립니다.\n",
    "for year in years:\n",
    "    count_column = f'{year}_home'  # library_count 데이터프레임의 열 이름\n",
    "    people_column = f'{year}_people'  # library_people 데이터프레임의 열 이름\n",
    "    correlation =home[count_column].corr(library_people[people_column])\n",
    "\n",
    "correlation"
   ]
  },
  {
   "cell_type": "code",
   "execution_count": null,
   "id": "536bedae",
   "metadata": {},
   "outputs": [],
   "source": []
  },
  {
   "cell_type": "code",
   "execution_count": null,
   "id": "aa3cec0a",
   "metadata": {},
   "outputs": [],
   "source": []
  }
 ],
 "metadata": {
  "kernelspec": {
   "display_name": "Python 3 (ipykernel)",
   "language": "python",
   "name": "python3"
  },
  "language_info": {
   "codemirror_mode": {
    "name": "ipython",
    "version": 3
   },
   "file_extension": ".py",
   "mimetype": "text/x-python",
   "name": "python",
   "nbconvert_exporter": "python",
   "pygments_lexer": "ipython3",
   "version": "3.8.7"
  }
 },
 "nbformat": 4,
 "nbformat_minor": 5
}
